{
 "cells": [
  {
   "cell_type": "code",
   "execution_count": 1,
   "id": "initial_id",
   "metadata": {
    "ExecuteTime": {
     "end_time": "2023-12-09T10:41:52.741374460Z",
     "start_time": "2023-12-09T10:41:52.702335637Z"
    }
   },
   "outputs": [],
   "source": [
    "import os"
   ]
  },
  {
   "cell_type": "code",
   "execution_count": 2,
   "id": "1c6bae3db21e59d1",
   "metadata": {
    "ExecuteTime": {
     "end_time": "2023-12-09T10:41:52.741919162Z",
     "start_time": "2023-12-09T10:41:52.702656166Z"
    },
    "collapsed": false,
    "jupyter": {
     "outputs_hidden": false
    }
   },
   "outputs": [
    {
     "data": {
      "text/plain": [
       "'/home/lucky/Documents/data_science_interview/Udemy/My_Projects/chicken_binary/research'"
      ]
     },
     "execution_count": 2,
     "metadata": {},
     "output_type": "execute_result"
    }
   ],
   "source": [
    "%pwd"
   ]
  },
  {
   "cell_type": "code",
   "execution_count": 3,
   "id": "1ff52baf-269e-43d2-9099-e0a9a4acfdd8",
   "metadata": {
    "ExecuteTime": {
     "end_time": "2023-12-09T10:41:52.742155525Z",
     "start_time": "2023-12-09T10:41:52.702906947Z"
    }
   },
   "outputs": [],
   "source": [
    "os.chdir(\"../\")"
   ]
  },
  {
   "cell_type": "code",
   "execution_count": 4,
   "id": "9d2e163a-6276-45dd-8c7c-21c0eb8aa004",
   "metadata": {
    "ExecuteTime": {
     "end_time": "2023-12-09T10:41:52.742433523Z",
     "start_time": "2023-12-09T10:41:52.703071646Z"
    }
   },
   "outputs": [
    {
     "data": {
      "text/plain": [
       "'/home/lucky/Documents/data_science_interview/Udemy/My_Projects/chicken_binary'"
      ]
     },
     "execution_count": 4,
     "metadata": {},
     "output_type": "execute_result"
    }
   ],
   "source": [
    "%pwd"
   ]
  },
  {
   "cell_type": "code",
   "execution_count": 5,
   "id": "79e4976b-141f-4c91-9a37-5d18cc4b62a6",
   "metadata": {
    "ExecuteTime": {
     "end_time": "2023-12-09T10:41:52.843077882Z",
     "start_time": "2023-12-09T10:41:52.703352421Z"
    }
   },
   "outputs": [
    {
     "name": "stdout",
     "output_type": "stream",
     "text": [
      "\u001b[0m\u001b[01;34martifacts\u001b[0m/  dvc.yaml  params.yaml       \u001b[01;34mresearch\u001b[0m/  template.py\n",
      "\u001b[01;34mconfig\u001b[0m/     LICENSE   README.md         setup.py   \u001b[01;34mtemplates\u001b[0m/\n",
      "\u001b[01;31mdata.zip\u001b[0m    \u001b[01;34mlogs\u001b[0m/     requirements.txt  \u001b[01;34msrc\u001b[0m/       \u001b[01;34mvenv\u001b[0m/\n"
     ]
    }
   ],
   "source": [
    "ls"
   ]
  },
  {
   "cell_type": "markdown",
   "id": "6285549b-1bf7-479b-8dbe-5700dcce8bd3",
   "metadata": {},
   "source": [
    "# Entity"
   ]
  },
  {
   "cell_type": "code",
   "execution_count": 19,
   "id": "d2cdb970-c617-452b-b89d-79e88259635e",
   "metadata": {
    "ExecuteTime": {
     "end_time": "2023-12-09T10:41:52.862546179Z",
     "start_time": "2023-12-09T10:41:52.828093877Z"
    }
   },
   "outputs": [],
   "source": [
    "from dataclasses import dataclass\n",
    "from pathlib import Path\n",
    "\n",
    "@dataclass(frozen=True)\n",
    "class DataIngestionConfig:\n",
    "    root_dir: Path\n",
    "    source_URL: str\n",
    "    local_data_file: Path\n",
    "    unzip_dir: Path\n",
    "    data_dir: Path\n",
    "    csv_dir: Path"
   ]
  },
  {
   "cell_type": "code",
   "execution_count": null,
   "id": "159e206bb258d333",
   "metadata": {
    "ExecuteTime": {
     "end_time": "2023-12-09T10:41:52.864400820Z",
     "start_time": "2023-12-09T10:41:52.835668824Z"
    },
    "collapsed": false,
    "jupyter": {
     "outputs_hidden": false
    }
   },
   "outputs": [],
   "source": []
  },
  {
   "cell_type": "markdown",
   "id": "21ea1cfb-fcc9-4311-9922-a0a5ac67a787",
   "metadata": {},
   "source": [
    "# Config Manager"
   ]
  },
  {
   "cell_type": "code",
   "execution_count": 20,
   "id": "4ce1f8ae9afecb62",
   "metadata": {
    "ExecuteTime": {
     "end_time": "2023-12-09T10:41:53.210140308Z",
     "start_time": "2023-12-09T10:41:52.839429939Z"
    },
    "collapsed": false,
    "jupyter": {
     "outputs_hidden": false
    }
   },
   "outputs": [],
   "source": [
    "from cnnClassifier.utils.common import create_directories, read_yaml\n",
    "from cnnClassifier.constants import *"
   ]
  },
  {
   "cell_type": "code",
   "execution_count": 21,
   "id": "b376a7af-67a1-4acc-85bd-46df35812938",
   "metadata": {
    "ExecuteTime": {
     "end_time": "2023-12-09T10:41:53.224733327Z",
     "start_time": "2023-12-09T10:41:53.218767908Z"
    }
   },
   "outputs": [],
   "source": [
    "class ConfigurationManager:\n",
    "    \"\"\"\n",
    "        responsible for creating the Directories needed for data\n",
    "        and return entity -> DataIngestionConfig\n",
    "    \"\"\"\n",
    "\n",
    "    def __init__(self, config_filepath = CONFIG_FILE_PATH, params_filepath = PARAMS_FILE_PATH):\n",
    "        self.config = read_yaml(config_filepath)\n",
    "        self.params = read_yaml(params_filepath)\n",
    "\n",
    "        create_directories([self.config.artifacts_root])\n",
    "\n",
    "    def get_data_ingestion_config(self) -> DataIngestionConfig:\n",
    "        config = self.config.data_ingestion\n",
    "\n",
    "        create_directories([config.root_dir])\n",
    "\n",
    "        data_ingestion_config = DataIngestionConfig(\n",
    "            root_dir = config.root_dir,\n",
    "            source_URL = config.source_URL,\n",
    "            local_data_file = config.local_data_file,\n",
    "            unzip_dir = config.unzip_dir,\n",
    "            data_dir = config.data_dir,\n",
    "            csv_dir = config.csv_dir\n",
    "        )\n",
    "\n",
    "        return data_ingestion_config"
   ]
  },
  {
   "cell_type": "code",
   "execution_count": null,
   "id": "dc3ea40b0a89eb9a",
   "metadata": {
    "ExecuteTime": {
     "end_time": "2023-12-09T10:41:53.241098490Z",
     "start_time": "2023-12-09T10:41:53.227885043Z"
    },
    "collapsed": false,
    "jupyter": {
     "outputs_hidden": false
    }
   },
   "outputs": [],
   "source": []
  },
  {
   "cell_type": "markdown",
   "id": "5d8cce3bbb61f853",
   "metadata": {
    "collapsed": false,
    "jupyter": {
     "outputs_hidden": false
    }
   },
   "source": [
    "# Data Ingestion Class"
   ]
  },
  {
   "cell_type": "code",
   "execution_count": 22,
   "id": "e0f2e7b8951d297d",
   "metadata": {
    "ExecuteTime": {
     "end_time": "2023-12-09T10:41:53.256843407Z",
     "start_time": "2023-12-09T10:41:53.236208937Z"
    },
    "collapsed": false,
    "jupyter": {
     "outputs_hidden": false
    }
   },
   "outputs": [],
   "source": [
    "import ssl\n",
    "import urllib.request as request\n",
    "from cnnClassifier import logger\n",
    "from cnnClassifier.utils.common import get_size\n",
    "import zipfile\n",
    "import subprocess"
   ]
  },
  {
   "cell_type": "code",
   "execution_count": 23,
   "id": "6bd1a53a3389e0f5",
   "metadata": {
    "ExecuteTime": {
     "end_time": "2023-12-09T10:41:53.258596418Z",
     "start_time": "2023-12-09T10:41:53.247785185Z"
    },
    "collapsed": false,
    "jupyter": {
     "outputs_hidden": false
    }
   },
   "outputs": [],
   "source": [
    "class DataIngestion:\n",
    "    def __init__(self, config: DataIngestionConfig):\n",
    "        self.config = config\n",
    "\n",
    "    \n",
    "    def download_file(self):\n",
    "        # Create an unverified SSL context\n",
    "        ssl._create_default_https_context = ssl._create_unverified_context\n",
    "        \n",
    "        if not os.path.exists(self.config.local_data_file):\n",
    "            filename, headers = request.urlretrieve(\n",
    "                url = self.config.source_URL,\n",
    "                filename = self.config.local_data_file\n",
    "            )\n",
    "            logger.info(f\"{filename} download! with following info: \\n{headers}\")\n",
    "        else:\n",
    "            logger.info(f\"File already exists of size: {get_size(Path(self.config.local_data_file))}\")\n",
    "\n",
    "    def extract_zip_file(self):\n",
    "        \"\"\"\n",
    "        zip_file_path: str\n",
    "        Extracts the zip file into the data directory\n",
    "        Function returns None\n",
    "        \"\"\"\n",
    "        unzip_path = self.config.unzip_dir\n",
    "        os.makedirs(unzip_path, exist_ok=True)\n",
    "        with zipfile.ZipFile(self.config.local_data_file, 'r') as zip_ref:\n",
    "            zip_ref.extractall(unzip_path)"
   ]
  },
  {
   "cell_type": "code",
   "execution_count": 24,
   "id": "2e151e0aa026b5a9",
   "metadata": {
    "ExecuteTime": {
     "end_time": "2023-12-09T10:41:55.210253526Z",
     "start_time": "2023-12-09T10:41:53.253721434Z"
    },
    "collapsed": false,
    "jupyter": {
     "outputs_hidden": false
    }
   },
   "outputs": [
    {
     "name": "stdout",
     "output_type": "stream",
     "text": [
      "[2023-12-09 16:20:22,298: INFO: common: yaml file: config/config.yaml loaded successfully]\n",
      "[2023-12-09 16:20:22,299: INFO: common: yaml file: params.yaml loaded successfully]\n",
      "[2023-12-09 16:20:22,300: INFO: common: created directory at: artifacts]\n",
      "[2023-12-09 16:20:22,301: INFO: common: created directory at: artifacts/data_ingestion]\n",
      "[2023-12-09 16:22:02,866: INFO: 1943290467: artifacts/data_ingestion/data.zip download! with following info: \n",
      "Date: Sat, 09 Dec 2023 10:50:23 GMT\n",
      "Content-Type: application/zip\n",
      "Transfer-Encoding: chunked\n",
      "Connection: close\n",
      "Access-Control-Allow-Origin: *\n",
      "Access-Control-Allow-Headers: Cache-Control,Authorization,Content-Type,X-reqed-With,x-requested-with\n",
      "Access-Control-Allow-Methods: GET,HEAD,POST,PUT,PATCH,DELETE\n",
      "Access-Control-Expose-Headers: X-RateLimit-Limit,X-RateLimit-Remaining,X-RateLimit-Reset\n",
      "Retry-After: 1\n",
      "X-RateLimit-Limit: 1\n",
      "X-RateLimit-Remaining: 7\n",
      "X-RateLimit-Reset: 2023-12-09T10:50:23.968Z\n",
      "Content-disposition: attachment;filename=Chicken_fecal_data.zip\n",
      "Strict-Transport-Security: max-age=15724800; includeSubDomains\n",
      "\n",
      "]\n"
     ]
    }
   ],
   "source": [
    "\n",
    "config = ConfigurationManager()\n",
    "data_ingestion_config = config.get_data_ingestion_config()\n",
    "data_ingestion = DataIngestion(config=data_ingestion_config)\n",
    "data_ingestion.download_file()\n",
    "data_ingestion.extract_zip_file()"
   ]
  },
  {
   "cell_type": "code",
   "execution_count": null,
   "id": "88c0b946-e815-4792-870b-04a11b853561",
   "metadata": {
    "ExecuteTime": {
     "end_time": "2023-12-09T10:41:55.223089594Z",
     "start_time": "2023-12-09T10:41:55.217284494Z"
    }
   },
   "outputs": [],
   "source": []
  },
  {
   "cell_type": "code",
   "execution_count": null,
   "id": "3720b585-6023-4073-bcf9-952fdd03fe04",
   "metadata": {
    "ExecuteTime": {
     "start_time": "2023-12-09T10:41:55.220296689Z"
    }
   },
   "outputs": [],
   "source": []
  },
  {
   "cell_type": "code",
   "execution_count": null,
   "id": "c1d6a01f-5247-4fe4-992e-e77e185b0862",
   "metadata": {
    "ExecuteTime": {
     "start_time": "2023-12-09T10:41:55.222843880Z"
    }
   },
   "outputs": [],
   "source": []
  }
 ],
 "metadata": {
  "kernelspec": {
   "display_name": "Python 3 (ipykernel)",
   "language": "python",
   "name": "python3"
  },
  "language_info": {
   "codemirror_mode": {
    "name": "ipython",
    "version": 3
   },
   "file_extension": ".py",
   "mimetype": "text/x-python",
   "name": "python",
   "nbconvert_exporter": "python",
   "pygments_lexer": "ipython3",
   "version": "3.11.6"
  }
 },
 "nbformat": 4,
 "nbformat_minor": 5
}
