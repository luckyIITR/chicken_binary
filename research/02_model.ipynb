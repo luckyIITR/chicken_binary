{
 "cells": [
  {
   "cell_type": "code",
   "execution_count": 1,
   "id": "initial_id",
   "metadata": {},
   "outputs": [],
   "source": [
    "import os"
   ]
  },
  {
   "cell_type": "code",
   "execution_count": 2,
   "id": "945415a0-fc77-4229-9892-61599524e4d0",
   "metadata": {},
   "outputs": [],
   "source": [
    "os.chdir(\"../\")"
   ]
  },
  {
   "cell_type": "code",
   "execution_count": 3,
   "id": "ee14311f-014f-45ce-8f2b-4c6363f1f368",
   "metadata": {},
   "outputs": [
    {
     "data": {
      "text/plain": [
       "'/home/lucky/Documents/data_science_interview/Udemy/My_Projects/chicken_binary'"
      ]
     },
     "execution_count": 3,
     "metadata": {},
     "output_type": "execute_result"
    }
   ],
   "source": [
    "pwd"
   ]
  },
  {
   "cell_type": "code",
   "execution_count": 4,
   "id": "006ee709-b719-4a38-ac6e-f56a4498d1c0",
   "metadata": {},
   "outputs": [
    {
     "name": "stdout",
     "output_type": "stream",
     "text": [
      "\u001b[0m\u001b[01;34martifacts\u001b[0m/        dvc.yaml  params.yaml       setup.py     \u001b[01;34mvenv\u001b[0m/\n",
      "\u001b[01;34mChicken_project\u001b[0m/  LICENSE   README.md         \u001b[01;34msrc\u001b[0m/\n",
      "\u001b[01;34mconfig\u001b[0m/           \u001b[01;34mlogs\u001b[0m/     requirements.txt  template.py\n",
      "\u001b[01;31mdata.zip\u001b[0m          main.py   \u001b[01;34mresearch\u001b[0m/         \u001b[01;34mtemplates\u001b[0m/\n"
     ]
    }
   ],
   "source": [
    "ls"
   ]
  },
  {
   "cell_type": "markdown",
   "id": "b4bb0191-d5d8-42ee-8bff-061a642b942c",
   "metadata": {},
   "source": [
    "# Entity"
   ]
  },
  {
   "cell_type": "code",
   "execution_count": 5,
   "id": "d7076eef-51b3-422c-9db7-e5fc1ff51534",
   "metadata": {},
   "outputs": [],
   "source": [
    "from dataclasses import dataclass\n",
    "from pathlib import Path"
   ]
  },
  {
   "cell_type": "code",
   "execution_count": 22,
   "id": "19443ecf-26c2-4819-ba88-5ff9fda73532",
   "metadata": {},
   "outputs": [],
   "source": [
    "@dataclass(frozen=True)\n",
    "class ModelConfig:\n",
    "    model_dir: Path\n",
    "    model_path: Path\n",
    "    img_size: list\n",
    "    channels: int\n",
    "    batch_size: int   # set batch size for training\n",
    "    epochs: int   # number of all epochs in training\n",
    "    patience: int   #number of epochs to wait to adjust lr if monitored value does not improve\n",
    "    stop_patience: int   # number of epochs to wait before stopping training if monitored value does not improve\n",
    "    threshold: float  # if train accuracy is < threshold adjust monitor accuracy, else monitor validation loss\n",
    "    factor: float   # factor to reduce lr by\n",
    "    ask_epoch: int   # number of epochs to run before asking if you want to halt training"
   ]
  },
  {
   "cell_type": "markdown",
   "id": "2e53773f-081d-4963-869a-1fcedb329410",
   "metadata": {},
   "source": [
    "# Configuration Manager"
   ]
  },
  {
   "cell_type": "code",
   "execution_count": 23,
   "id": "9cb44060-465d-4f26-9664-b681990b20c6",
   "metadata": {},
   "outputs": [],
   "source": [
    "from cnnClassifier.constants import *\n",
    "from cnnClassifier.utils.common import read_yaml, create_directories"
   ]
  },
  {
   "cell_type": "code",
   "execution_count": 24,
   "id": "dba18020-5a9c-421b-87c6-1f1cb82073f3",
   "metadata": {},
   "outputs": [],
   "source": [
    "class ConfigurationManager:\n",
    "    def __init__(self, config_filepath = CONFIG_FILE_PATH, params_filepath = PARAMS_FILE_PATH): \n",
    "        self.config = read_yaml(config_filepath)\n",
    "        self.params = read_yaml(params_filepath)\n",
    "        create_directories([self.config.artifacts_root])\n",
    "\n",
    "\n",
    "    def get_model_config(self) -> ModelConfig:\n",
    "        config = self.config.model\n",
    "        params_config = self.params\n",
    "        \n",
    "        create_directories([config.model_dir])\n",
    "\n",
    "        model_config = ModelConfig(\n",
    "            model_dir=Path(config.model_dir),\n",
    "            model_path=Path(config.model_path),\n",
    "            img_size=params_config.img_size,\n",
    "            channels=params_config.channels,\n",
    "            batch_size=params_config.batch_size,   # set batch size for training\n",
    "            epochs=params_config.epochs, # number of all epochs in training\n",
    "            patience=params_config.patience,   #number of epochs to wait to adjust lr if monitored value does not improve\n",
    "            stop_patience=params_config.stop_patience,   # number of epochs to wait before stopping training if monitored value does not improve\n",
    "            threshold=params_config.threshold,  # if train accuracy is < threshold adjust monitor accuracy, else monitor validation loss\n",
    "            factor=params_config.factor,  # factor to reduce lr by\n",
    "            ask_epoch=params_config.ask_epoch   #\n",
    "        )\n",
    "\n",
    "        return model_config"
   ]
  },
  {
   "cell_type": "code",
   "execution_count": 14,
   "id": "953ba355-8613-403f-a3a0-b29aef529631",
   "metadata": {},
   "outputs": [
    {
     "data": {
      "text/plain": [
       "PosixPath('config/config.yaml')"
      ]
     },
     "execution_count": 14,
     "metadata": {},
     "output_type": "execute_result"
    }
   ],
   "source": [
    "CONFIG_FILE_PATH"
   ]
  },
  {
   "cell_type": "code",
   "execution_count": 15,
   "id": "b4eecacf-b804-47aa-9a91-40bdc85e9a53",
   "metadata": {},
   "outputs": [
    {
     "data": {
      "text/plain": [
       "PosixPath('params.yaml')"
      ]
     },
     "execution_count": 15,
     "metadata": {},
     "output_type": "execute_result"
    }
   ],
   "source": [
    "PARAMS_FILE_PATH"
   ]
  },
  {
   "cell_type": "code",
   "execution_count": 16,
   "id": "e7027fb5-bdb1-4a63-906f-6ef040242f5a",
   "metadata": {},
   "outputs": [
    {
     "name": "stdout",
     "output_type": "stream",
     "text": [
      "[2023-12-09 17:02:33,739: INFO: common: yaml file: params.yaml loaded successfully]\n"
     ]
    },
    {
     "data": {
      "text/plain": [
       "BoxList([224, 224])"
      ]
     },
     "execution_count": 16,
     "metadata": {},
     "output_type": "execute_result"
    }
   ],
   "source": [
    "read_yaml(PARAMS_FILE_PATH).img_size"
   ]
  },
  {
   "cell_type": "code",
   "execution_count": 25,
   "id": "88e93628-6df3-4b8d-823a-751cc25fc69e",
   "metadata": {},
   "outputs": [
    {
     "name": "stdout",
     "output_type": "stream",
     "text": [
      "[2023-12-09 17:10:27,737: INFO: common: yaml file: config/config.yaml loaded successfully]\n",
      "[2023-12-09 17:10:27,739: INFO: common: yaml file: params.yaml loaded successfully]\n",
      "[2023-12-09 17:10:27,740: INFO: common: created directory at: artifacts]\n",
      "[2023-12-09 17:10:27,741: INFO: common: created directory at: artifacts/model]\n"
     ]
    },
    {
     "data": {
      "text/plain": [
       "ModelConfig(model_dir=PosixPath('artifacts/model'), model_path=PosixPath('artifacts/model/model_updated.h5'), img_size=BoxList([224, 224]), channels=3, batch_size=40, epochs=40, patience=1, stop_patience=3, threshold=0.9, factor=0.5, ask_epoch=5)"
      ]
     },
     "execution_count": 25,
     "metadata": {},
     "output_type": "execute_result"
    }
   ],
   "source": [
    "ConfigurationManager().get_model_config()"
   ]
  },
  {
   "cell_type": "markdown",
   "id": "a6abb149-f805-4965-b63c-276edb794f1c",
   "metadata": {},
   "source": [
    "# Prepare Model"
   ]
  },
  {
   "cell_type": "code",
   "execution_count": 26,
   "id": "df812b92-59e5-45d4-990f-b0dbe0acf10f",
   "metadata": {},
   "outputs": [],
   "source": [
    "import tensorflow as tf\n",
    "from tensorflow.keras.models import Sequential\n",
    "from tensorflow.keras.layers import Conv2D, MaxPooling2D, Flatten, Dense, Activation, Dropout, BatchNormalization\n",
    "from tensorflow.keras.optimizers import Adam, Adamax"
   ]
  },
  {
   "cell_type": "code",
   "execution_count": 27,
   "id": "61f51832-49ff-4438-ae31-962f6e8ae404",
   "metadata": {},
   "outputs": [],
   "source": [
    "class PrepareModel:\n",
    "    def __init__(self, config: ModelConfig):\n",
    "        self.model = None\n",
    "        self.config = config\n",
    "\n",
    "\n",
    "    def prepare_model(self):\n",
    "        model = Sequential([\n",
    "                Conv2D(filters=32, kernel_size=3, activation='relu', input_shape=[224, 224, 3]),\n",
    "                BatchNormalization(axis= -1, momentum= 0.99, epsilon= 0.001),\n",
    "                MaxPooling2D(pool_size=2, strides=2),\n",
    "                Conv2D(filters=32, kernel_size=3, activation='relu'),\n",
    "                MaxPooling2D(pool_size=2, strides=2),\n",
    "                Flatten(),\n",
    "                Dense(units=128, activation='relu'),\n",
    "                Dense(units=1, activation='sigmoid')\n",
    "            ])\n",
    "        model.compile(Adamax(learning_rate= 0.001), loss= 'binary_crossentropy', metrics= ['accuracy'])\n",
    "        model.summary()\n",
    "        self.model = model\n",
    "        self.save_model(path=self.config.model_path, model=self.model)\n",
    "    \n",
    "    @staticmethod\n",
    "    def save_model(path: Path, model: tf.keras.Model):\n",
    "        model.save(path)"
   ]
  },
  {
   "cell_type": "code",
   "execution_count": null,
   "id": "af8aaa69-dcf3-402f-84ba-5df1b520fef1",
   "metadata": {},
   "outputs": [],
   "source": []
  },
  {
   "cell_type": "code",
   "execution_count": 28,
   "id": "961cb0eb-7650-467a-92ae-de225c74a05d",
   "metadata": {},
   "outputs": [
    {
     "name": "stdout",
     "output_type": "stream",
     "text": [
      "[2023-12-09 17:10:38,997: INFO: common: yaml file: config/config.yaml loaded successfully]\n",
      "[2023-12-09 17:10:39,000: INFO: common: yaml file: params.yaml loaded successfully]\n",
      "[2023-12-09 17:10:39,001: INFO: common: created directory at: artifacts]\n",
      "[2023-12-09 17:10:39,002: INFO: common: created directory at: artifacts/model]\n",
      "Model: \"sequential_1\"\n",
      "_________________________________________________________________\n",
      " Layer (type)                Output Shape              Param #   \n",
      "=================================================================\n",
      " conv2d_2 (Conv2D)           (None, 222, 222, 32)      896       \n",
      "                                                                 \n",
      " batch_normalization_1 (Bat  (None, 222, 222, 32)      128       \n",
      " chNormalization)                                                \n",
      "                                                                 \n",
      " max_pooling2d_2 (MaxPoolin  (None, 111, 111, 32)      0         \n",
      " g2D)                                                            \n",
      "                                                                 \n",
      " conv2d_3 (Conv2D)           (None, 109, 109, 32)      9248      \n",
      "                                                                 \n",
      " max_pooling2d_3 (MaxPoolin  (None, 54, 54, 32)        0         \n",
      " g2D)                                                            \n",
      "                                                                 \n",
      " flatten_1 (Flatten)         (None, 93312)             0         \n",
      "                                                                 \n",
      " dense_2 (Dense)             (None, 128)               11944064  \n",
      "                                                                 \n",
      " dense_3 (Dense)             (None, 1)                 129       \n",
      "                                                                 \n",
      "=================================================================\n",
      "Total params: 11954465 (45.60 MB)\n",
      "Trainable params: 11954401 (45.60 MB)\n",
      "Non-trainable params: 64 (256.00 Byte)\n",
      "_________________________________________________________________\n"
     ]
    }
   ],
   "source": [
    "try:\n",
    "    config = ConfigurationManager()\n",
    "    model_config = config.get_model_config()\n",
    "    model_obj = PrepareModel(config=model_config)\n",
    "    model_obj.prepare_model()\n",
    "except Exception as e:\n",
    "    raise e"
   ]
  },
  {
   "cell_type": "code",
   "execution_count": null,
   "id": "9092ec55-ee4d-40a3-84d0-1f938da3a63b",
   "metadata": {},
   "outputs": [],
   "source": []
  }
 ],
 "metadata": {
  "kernelspec": {
   "display_name": "Python 3 (ipykernel)",
   "language": "python",
   "name": "python3"
  },
  "language_info": {
   "codemirror_mode": {
    "name": "ipython",
    "version": 3
   },
   "file_extension": ".py",
   "mimetype": "text/x-python",
   "name": "python",
   "nbconvert_exporter": "python",
   "pygments_lexer": "ipython3",
   "version": "3.11.6"
  }
 },
 "nbformat": 4,
 "nbformat_minor": 5
}
