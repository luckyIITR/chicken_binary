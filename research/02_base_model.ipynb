{
 "cells": [
  {
   "cell_type": "code",
   "execution_count": 1,
   "id": "initial_id",
   "metadata": {},
   "outputs": [],
   "source": [
    "import os"
   ]
  },
  {
   "cell_type": "code",
   "execution_count": 2,
   "id": "945415a0-fc77-4229-9892-61599524e4d0",
   "metadata": {},
   "outputs": [],
   "source": [
    "os.chdir(\"../\")"
   ]
  },
  {
   "cell_type": "code",
   "execution_count": 3,
   "id": "ee14311f-014f-45ce-8f2b-4c6363f1f368",
   "metadata": {},
   "outputs": [
    {
     "data": {
      "text/plain": [
       "'/home/lucky/Documents/data_science_interview/Udemy/My_Projects/chicken_binary'"
      ]
     },
     "execution_count": 3,
     "metadata": {},
     "output_type": "execute_result"
    }
   ],
   "source": [
    "pwd"
   ]
  },
  {
   "cell_type": "code",
   "execution_count": 4,
   "id": "006ee709-b719-4a38-ac6e-f56a4498d1c0",
   "metadata": {},
   "outputs": [
    {
     "name": "stdout",
     "output_type": "stream",
     "text": [
      "\u001b[0m\u001b[01;34martifacts\u001b[0m/        dvc.yaml  params.yaml       setup.py     \u001b[01;34mvenv\u001b[0m/\n",
      "\u001b[01;34mChicken_project\u001b[0m/  LICENSE   README.md         \u001b[01;34msrc\u001b[0m/\n",
      "\u001b[01;34mconfig\u001b[0m/           \u001b[01;34mlogs\u001b[0m/     requirements.txt  template.py\n",
      "\u001b[01;31mdata.zip\u001b[0m          main.py   \u001b[01;34mresearch\u001b[0m/         \u001b[01;34mtemplates\u001b[0m/\n"
     ]
    }
   ],
   "source": [
    "ls"
   ]
  },
  {
   "cell_type": "markdown",
   "id": "b4bb0191-d5d8-42ee-8bff-061a642b942c",
   "metadata": {},
   "source": [
    "# Entity"
   ]
  },
  {
   "cell_type": "code",
   "execution_count": 5,
   "id": "d7076eef-51b3-422c-9db7-e5fc1ff51534",
   "metadata": {},
   "outputs": [],
   "source": [
    "from dataclasses import dataclass\n",
    "from pathlib import Path"
   ]
  },
  {
   "cell_type": "code",
   "execution_count": 6,
   "id": "19443ecf-26c2-4819-ba88-5ff9fda73532",
   "metadata": {},
   "outputs": [],
   "source": [
    "@dataclass(frozen=True)\n",
    "class BaseModelConfig:\n",
    "    base_model_dir: Path\n",
    "    base_model_path: Path\n",
    "    img_size: list\n",
    "    channels: int\n",
    "    loss: str\n",
    "    learning_rate: float"
   ]
  },
  {
   "cell_type": "markdown",
   "id": "2e53773f-081d-4963-869a-1fcedb329410",
   "metadata": {},
   "source": [
    "# Configuration Manager"
   ]
  },
  {
   "cell_type": "code",
   "execution_count": 7,
   "id": "9cb44060-465d-4f26-9664-b681990b20c6",
   "metadata": {},
   "outputs": [],
   "source": [
    "from cnnClassifier.constants import *\n",
    "from cnnClassifier.utils.common import read_yaml, create_directories"
   ]
  },
  {
   "cell_type": "code",
   "execution_count": 8,
   "id": "dba18020-5a9c-421b-87c6-1f1cb82073f3",
   "metadata": {},
   "outputs": [],
   "source": [
    "class ConfigurationManager:\n",
    "    def __init__(self, config_filepath = CONFIG_FILE_PATH, params_filepath = PARAMS_FILE_PATH): \n",
    "        self.config = read_yaml(config_filepath)\n",
    "        self.params = read_yaml(params_filepath)\n",
    "        create_directories([self.config.artifacts_root])\n",
    "\n",
    "\n",
    "    def get_base_model_config(self) ->BaseModelConfig:\n",
    "        config = self.config.base_model\n",
    "        params_config = self.params\n",
    "        \n",
    "        create_directories([config.base_model_dir])\n",
    "\n",
    "        base_model_config = BaseModelConfig(\n",
    "            base_model_dir=Path(config.base_model_dir),\n",
    "            base_model_path=Path(config.base_model_path),\n",
    "            img_size=params_config.img_size,\n",
    "            channels=params_config.channels,\n",
    "            loss=params_config.loss,\n",
    "            learning_rate=params_config.learning_rate\n",
    "        )\n",
    "\n",
    "        return base_model_config"
   ]
  },
  {
   "cell_type": "code",
   "execution_count": 9,
   "id": "953ba355-8613-403f-a3a0-b29aef529631",
   "metadata": {},
   "outputs": [
    {
     "data": {
      "text/plain": [
       "PosixPath('config/config.yaml')"
      ]
     },
     "execution_count": 9,
     "metadata": {},
     "output_type": "execute_result"
    }
   ],
   "source": [
    "CONFIG_FILE_PATH"
   ]
  },
  {
   "cell_type": "code",
   "execution_count": 10,
   "id": "b4eecacf-b804-47aa-9a91-40bdc85e9a53",
   "metadata": {},
   "outputs": [
    {
     "data": {
      "text/plain": [
       "PosixPath('params.yaml')"
      ]
     },
     "execution_count": 10,
     "metadata": {},
     "output_type": "execute_result"
    }
   ],
   "source": [
    "PARAMS_FILE_PATH"
   ]
  },
  {
   "cell_type": "code",
   "execution_count": 11,
   "id": "e7027fb5-bdb1-4a63-906f-6ef040242f5a",
   "metadata": {},
   "outputs": [
    {
     "name": "stdout",
     "output_type": "stream",
     "text": [
      "[2023-12-10 10:47:06,306: INFO: common: yaml file: params.yaml loaded successfully]\n"
     ]
    },
    {
     "data": {
      "text/plain": [
       "BoxList([224, 224])"
      ]
     },
     "execution_count": 11,
     "metadata": {},
     "output_type": "execute_result"
    }
   ],
   "source": [
    "read_yaml(PARAMS_FILE_PATH).img_size"
   ]
  },
  {
   "cell_type": "code",
   "execution_count": 12,
   "id": "88e93628-6df3-4b8d-823a-751cc25fc69e",
   "metadata": {},
   "outputs": [
    {
     "name": "stdout",
     "output_type": "stream",
     "text": [
      "[2023-12-10 10:47:06,317: INFO: common: yaml file: config/config.yaml loaded successfully]\n",
      "[2023-12-10 10:47:06,321: INFO: common: yaml file: params.yaml loaded successfully]\n",
      "[2023-12-10 10:47:06,323: INFO: common: created directory at: artifacts]\n",
      "[2023-12-10 10:47:06,324: INFO: common: created directory at: artifacts/base_model]\n"
     ]
    }
   ],
   "source": [
    "temp = ConfigurationManager().get_base_model_config()"
   ]
  },
  {
   "cell_type": "code",
   "execution_count": 13,
   "id": "6fec112d-77bf-43f8-bca0-217cf6b065e2",
   "metadata": {},
   "outputs": [
    {
     "data": {
      "text/plain": [
       "BaseModelConfig(base_model_dir=PosixPath('artifacts/base_model'), base_model_path=PosixPath('artifacts/base_model/base_model.h5'), img_size=BoxList([224, 224]), channels=3, loss='binary_crossentropy', learning_rate=0.001)"
      ]
     },
     "execution_count": 13,
     "metadata": {},
     "output_type": "execute_result"
    }
   ],
   "source": [
    "temp"
   ]
  },
  {
   "cell_type": "code",
   "execution_count": null,
   "id": "b1c484bb-c360-471e-a3f8-9b1b97dd5e7e",
   "metadata": {},
   "outputs": [],
   "source": []
  },
  {
   "cell_type": "markdown",
   "id": "a6abb149-f805-4965-b63c-276edb794f1c",
   "metadata": {},
   "source": [
    "# Prepare Model"
   ]
  },
  {
   "cell_type": "code",
   "execution_count": 14,
   "id": "df812b92-59e5-45d4-990f-b0dbe0acf10f",
   "metadata": {},
   "outputs": [
    {
     "name": "stderr",
     "output_type": "stream",
     "text": [
      "2023-12-10 10:47:06.549694: I external/local_tsl/tsl/cuda/cudart_stub.cc:31] Could not find cuda drivers on your machine, GPU will not be used.\n",
      "2023-12-10 10:47:06.582438: E external/local_xla/xla/stream_executor/cuda/cuda_dnn.cc:9261] Unable to register cuDNN factory: Attempting to register factory for plugin cuDNN when one has already been registered\n",
      "2023-12-10 10:47:06.582469: E external/local_xla/xla/stream_executor/cuda/cuda_fft.cc:607] Unable to register cuFFT factory: Attempting to register factory for plugin cuFFT when one has already been registered\n",
      "2023-12-10 10:47:06.583297: E external/local_xla/xla/stream_executor/cuda/cuda_blas.cc:1515] Unable to register cuBLAS factory: Attempting to register factory for plugin cuBLAS when one has already been registered\n",
      "2023-12-10 10:47:06.588289: I external/local_tsl/tsl/cuda/cudart_stub.cc:31] Could not find cuda drivers on your machine, GPU will not be used.\n",
      "2023-12-10 10:47:06.588836: I tensorflow/core/platform/cpu_feature_guard.cc:182] This TensorFlow binary is optimized to use available CPU instructions in performance-critical operations.\n",
      "To enable the following instructions: AVX2 FMA, in other operations, rebuild TensorFlow with the appropriate compiler flags.\n",
      "2023-12-10 10:47:07.272050: W tensorflow/compiler/tf2tensorrt/utils/py_utils.cc:38] TF-TRT Warning: Could not find TensorRT\n"
     ]
    }
   ],
   "source": [
    "import tensorflow as tf\n",
    "from tensorflow.keras.models import Sequential\n",
    "from tensorflow.keras.layers import Conv2D, MaxPooling2D, Flatten, Dense, Activation, Dropout, BatchNormalization\n",
    "from tensorflow.keras.optimizers import Adam, Adamax"
   ]
  },
  {
   "cell_type": "code",
   "execution_count": 15,
   "id": "61f51832-49ff-4438-ae31-962f6e8ae404",
   "metadata": {},
   "outputs": [],
   "source": [
    "class PrepareBaseModel:\n",
    "    def __init__(self, config: BaseModelConfig):\n",
    "        self.model = None\n",
    "        self.config = config\n",
    "\n",
    "\n",
    "    def prepare_model(self):\n",
    "        input_shape = (self.config.img_size[0], self.config.img_size[1], self.config.channels)\n",
    "        learning_rate = self.config.learning_rate\n",
    "        loss = self.config.loss\n",
    "        \n",
    "        model = Sequential([\n",
    "                Conv2D(filters=32, kernel_size=3, activation='relu', input_shape=input_shape),\n",
    "                BatchNormalization(axis= -1, momentum= 0.99, epsilon= 0.001),\n",
    "                MaxPooling2D(pool_size=2, strides=2),\n",
    "                Conv2D(filters=32, kernel_size=3, activation='relu'),\n",
    "                MaxPooling2D(pool_size=2, strides=2),\n",
    "                Flatten(),\n",
    "                Dense(units=128, activation='relu'),\n",
    "                Dense(units=1, activation='sigmoid')\n",
    "            ])\n",
    "        model.compile(Adamax(learning_rate=learning_rate), loss=loss, metrics= ['accuracy'])\n",
    "        model.summary()\n",
    "        self.model = model\n",
    "        self.save_model(path=self.config.base_model_path, model=self.model)\n",
    "    \n",
    "    @staticmethod\n",
    "    def save_model(path: Path, model: tf.keras.Model):\n",
    "        model.save(path)"
   ]
  },
  {
   "cell_type": "code",
   "execution_count": null,
   "id": "af8aaa69-dcf3-402f-84ba-5df1b520fef1",
   "metadata": {},
   "outputs": [],
   "source": []
  },
  {
   "cell_type": "code",
   "execution_count": 16,
   "id": "961cb0eb-7650-467a-92ae-de225c74a05d",
   "metadata": {},
   "outputs": [
    {
     "name": "stdout",
     "output_type": "stream",
     "text": [
      "[2023-12-10 10:47:08,178: INFO: common: yaml file: config/config.yaml loaded successfully]\n",
      "[2023-12-10 10:47:08,181: INFO: common: yaml file: params.yaml loaded successfully]\n",
      "[2023-12-10 10:47:08,182: INFO: common: created directory at: artifacts]\n",
      "[2023-12-10 10:47:08,183: INFO: common: created directory at: artifacts/base_model]\n",
      "Model: \"sequential\"\n",
      "_________________________________________________________________\n",
      " Layer (type)                Output Shape              Param #   \n",
      "=================================================================\n",
      " conv2d (Conv2D)             (None, 222, 222, 32)      896       \n",
      "                                                                 \n",
      " batch_normalization (Batch  (None, 222, 222, 32)      128       \n",
      " Normalization)                                                  \n",
      "                                                                 \n",
      " max_pooling2d (MaxPooling2  (None, 111, 111, 32)      0         \n",
      " D)                                                              \n",
      "                                                                 \n",
      " conv2d_1 (Conv2D)           (None, 109, 109, 32)      9248      \n",
      "                                                                 \n",
      " max_pooling2d_1 (MaxPoolin  (None, 54, 54, 32)        0         \n",
      " g2D)                                                            \n",
      "                                                                 \n",
      " flatten (Flatten)           (None, 93312)             0         \n",
      "                                                                 \n",
      " dense (Dense)               (None, 128)               11944064  \n",
      "                                                                 \n",
      " dense_1 (Dense)             (None, 1)                 129       \n",
      "                                                                 \n",
      "=================================================================\n",
      "Total params: 11954465 (45.60 MB)\n",
      "Trainable params: 11954401 (45.60 MB)\n",
      "Non-trainable params: 64 (256.00 Byte)\n",
      "_________________________________________________________________\n"
     ]
    },
    {
     "name": "stderr",
     "output_type": "stream",
     "text": [
      "/home/lucky/Documents/data_science_interview/Udemy/My_Projects/chicken_binary/venv/lib/python3.11/site-packages/keras/src/engine/training.py:3103: UserWarning: You are saving your model as an HDF5 file via `model.save()`. This file format is considered legacy. We recommend using instead the native Keras format, e.g. `model.save('my_model.keras')`.\n",
      "  saving_api.save_model(\n"
     ]
    }
   ],
   "source": [
    "try:\n",
    "    config = ConfigurationManager()\n",
    "    base_model_config = config.get_base_model_config()\n",
    "    base_model_obj = PrepareBaseModel(config=base_model_config)\n",
    "    base_model_obj.prepare_model()\n",
    "except Exception as e:\n",
    "    raise e"
   ]
  },
  {
   "cell_type": "code",
   "execution_count": null,
   "id": "9092ec55-ee4d-40a3-84d0-1f938da3a63b",
   "metadata": {},
   "outputs": [],
   "source": []
  }
 ],
 "metadata": {
  "kernelspec": {
   "display_name": "Python 3 (ipykernel)",
   "language": "python",
   "name": "python3"
  },
  "language_info": {
   "codemirror_mode": {
    "name": "ipython",
    "version": 3
   },
   "file_extension": ".py",
   "mimetype": "text/x-python",
   "name": "python",
   "nbconvert_exporter": "python",
   "pygments_lexer": "ipython3",
   "version": "3.11.6"
  }
 },
 "nbformat": 4,
 "nbformat_minor": 5
}
